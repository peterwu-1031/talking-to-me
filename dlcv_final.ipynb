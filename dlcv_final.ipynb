{
  "nbformat": 4,
  "nbformat_minor": 0,
  "metadata": {
    "colab": {
      "provenance": []
    },
    "kernelspec": {
      "name": "python3",
      "display_name": "Python 3"
    },
    "language_info": {
      "name": "python"
    },
    "gpuClass": "standard"
  },
  "cells": [
    {
      "cell_type": "code",
      "source": [
        "from google.colab import drive\n",
        "drive.mount('/content/drive')"
      ],
      "metadata": {
        "colab": {
          "base_uri": "https://localhost:8080/"
        },
        "id": "ruX_DOk3OBkP",
        "outputId": "d2ce4a94-dce7-4585-e8ca-e3a77c2718c4"
      },
      "execution_count": 1,
      "outputs": [
        {
          "output_type": "stream",
          "name": "stdout",
          "text": [
            "Mounted at /content/drive\n"
          ]
        }
      ]
    },
    {
      "cell_type": "code",
      "execution_count": 2,
      "metadata": {
        "colab": {
          "base_uri": "https://localhost:8080/"
        },
        "id": "5FB1kAq9G_TF",
        "outputId": "0059bdbf-1597-4ec2-af97-a7a929beea03"
      },
      "outputs": [
        {
          "output_type": "stream",
          "name": "stdout",
          "text": [
            "/content/split_frame_train\n",
            "unzip:  cannot find or open ../drive/MyDrive/dlcv_proj/1-50.zip, ../drive/MyDrive/dlcv_proj/1-50.zip.zip or ../drive/MyDrive/dlcv_proj/1-50.zip.ZIP.\n",
            "unzip:  cannot find or open ../drive/MyDrive/dlcv_proj/51-100.zip, ../drive/MyDrive/dlcv_proj/51-100.zip.zip or ../drive/MyDrive/dlcv_proj/51-100.zip.ZIP.\n",
            "unzip:  cannot find or open ../drive/MyDrive/dlcv_proj/101-150.zip, ../drive/MyDrive/dlcv_proj/101-150.zip.zip or ../drive/MyDrive/dlcv_proj/101-150.zip.ZIP.\n",
            "unzip:  cannot find or open ../drive/MyDrive/dlcv_proj/151-200.zip, ../drive/MyDrive/dlcv_proj/151-200.zip.zip or ../drive/MyDrive/dlcv_proj/151-200.zip.ZIP.\n",
            "unzip:  cannot find or open ../drive/MyDrive/dlcv_proj/201-250.zip, ../drive/MyDrive/dlcv_proj/201-250.zip.zip or ../drive/MyDrive/dlcv_proj/201-250.zip.ZIP.\n",
            "unzip:  cannot find or open ../drive/MyDrive/dlcv_proj/251-300.zip, ../drive/MyDrive/dlcv_proj/251-300.zip.zip or ../drive/MyDrive/dlcv_proj/251-300.zip.ZIP.\n",
            "unzip:  cannot find or open ../drive/MyDrive/dlcv_proj/301-350.zip, ../drive/MyDrive/dlcv_proj/301-350.zip.zip or ../drive/MyDrive/dlcv_proj/301-350.zip.ZIP.\n",
            "unzip:  cannot find or open ../drive/MyDrive/dlcv_proj/351-394.zip, ../drive/MyDrive/dlcv_proj/351-394.zip.zip or ../drive/MyDrive/dlcv_proj/351-394.zip.ZIP.\n",
            "/content\n",
            "unzip:  cannot find or open ./drive/MyDrive/dlcv_proj/split_frame_test.zip, ./drive/MyDrive/dlcv_proj/split_frame_test.zip.zip or ./drive/MyDrive/dlcv_proj/split_frame_test.zip.ZIP.\n",
            "/content/mfcc\n",
            "--2022-12-28 09:35:13--  https://www.dropbox.com/s/yg6e7vrt9xk7y8f/1-8000_mfcc.zip?dl=1\n",
            "Resolving www.dropbox.com (www.dropbox.com)... 162.125.2.18, 2620:100:6021:18::a27d:4112\n",
            "Connecting to www.dropbox.com (www.dropbox.com)|162.125.2.18|:443... connected.\n",
            "HTTP request sent, awaiting response... 302 Found\n",
            "Location: /s/dl/yg6e7vrt9xk7y8f/1-8000_mfcc.zip [following]\n",
            "--2022-12-28 09:35:14--  https://www.dropbox.com/s/dl/yg6e7vrt9xk7y8f/1-8000_mfcc.zip\n",
            "Reusing existing connection to www.dropbox.com:443.\n",
            "HTTP request sent, awaiting response... 302 Found\n",
            "Location: https://uc5cc5f4ea7c0c8c8c3d496bd111.dl.dropboxusercontent.com/cd/0/get/BzcGXidxb8AU7kn2ZbO2O9i84RCNf0YLL_8Ydug1ENbGP98-nQEpm9XR7AcPQeo5OzK8At99LZgLZj-RHorP0aejwmthA5XfOiReIqs_R-sOksOQqc0ZeWjmX4IOY6cfTo72hQivlxLfSVnoi8c0pYmBDrj9DqXymcT0cwGiraZFwvlFLpQuCUI3ouVuSlzrDAQ/file?dl=1# [following]\n",
            "--2022-12-28 09:35:14--  https://uc5cc5f4ea7c0c8c8c3d496bd111.dl.dropboxusercontent.com/cd/0/get/BzcGXidxb8AU7kn2ZbO2O9i84RCNf0YLL_8Ydug1ENbGP98-nQEpm9XR7AcPQeo5OzK8At99LZgLZj-RHorP0aejwmthA5XfOiReIqs_R-sOksOQqc0ZeWjmX4IOY6cfTo72hQivlxLfSVnoi8c0pYmBDrj9DqXymcT0cwGiraZFwvlFLpQuCUI3ouVuSlzrDAQ/file?dl=1\n",
            "Resolving uc5cc5f4ea7c0c8c8c3d496bd111.dl.dropboxusercontent.com (uc5cc5f4ea7c0c8c8c3d496bd111.dl.dropboxusercontent.com)... 162.125.65.15, 2620:100:6021:15::a27d:410f\n",
            "Connecting to uc5cc5f4ea7c0c8c8c3d496bd111.dl.dropboxusercontent.com (uc5cc5f4ea7c0c8c8c3d496bd111.dl.dropboxusercontent.com)|162.125.65.15|:443... connected.\n",
            "HTTP request sent, awaiting response... 200 OK\n",
            "Length: 176689133 (169M) [application/binary]\n",
            "Saving to: ‘A.zip’\n",
            "\n",
            "A.zip               100%[===================>] 168.50M  10.9MB/s    in 13s     \n",
            "\n",
            "2022-12-28 09:35:28 (13.3 MB/s) - ‘A.zip’ saved [176689133/176689133]\n",
            "\n",
            "--2022-12-28 09:35:28--  https://www.dropbox.com/s/ajsgmwa3m8g03fe/8001-18800_mfcc.zip?dl=1\n",
            "Resolving www.dropbox.com (www.dropbox.com)... 162.125.2.18, 2620:100:6021:18::a27d:4112\n",
            "Connecting to www.dropbox.com (www.dropbox.com)|162.125.2.18|:443... connected.\n",
            "HTTP request sent, awaiting response... 302 Found\n",
            "Location: /s/dl/ajsgmwa3m8g03fe/8001-18800_mfcc.zip [following]\n",
            "--2022-12-28 09:35:28--  https://www.dropbox.com/s/dl/ajsgmwa3m8g03fe/8001-18800_mfcc.zip\n",
            "Reusing existing connection to www.dropbox.com:443.\n",
            "HTTP request sent, awaiting response... 302 Found\n",
            "Location: https://uca5096cd8b742584aec31206b8a.dl.dropboxusercontent.com/cd/0/get/Bzd7zVtzZK50hTfkwD-ncb3F2yMzbAgyrHw7g36jAC4eObo7Ya0muXFkN5qQQs9-gvEi8kuC5pzfNUUHtVNCnFV2v9sghPl374GLleoVBPyrNEa4KFrEbUlk7eD00lRY29rmLW0gSpiR4LNqJu0endjDGQfxG4N4FiOzTREQwR4vD7g0uH0MMR03ommwI-Z3zok/file?dl=1# [following]\n",
            "--2022-12-28 09:35:29--  https://uca5096cd8b742584aec31206b8a.dl.dropboxusercontent.com/cd/0/get/Bzd7zVtzZK50hTfkwD-ncb3F2yMzbAgyrHw7g36jAC4eObo7Ya0muXFkN5qQQs9-gvEi8kuC5pzfNUUHtVNCnFV2v9sghPl374GLleoVBPyrNEa4KFrEbUlk7eD00lRY29rmLW0gSpiR4LNqJu0endjDGQfxG4N4FiOzTREQwR4vD7g0uH0MMR03ommwI-Z3zok/file?dl=1\n",
            "Resolving uca5096cd8b742584aec31206b8a.dl.dropboxusercontent.com (uca5096cd8b742584aec31206b8a.dl.dropboxusercontent.com)... 162.125.65.15, 2620:100:6021:15::a27d:410f\n",
            "Connecting to uca5096cd8b742584aec31206b8a.dl.dropboxusercontent.com (uca5096cd8b742584aec31206b8a.dl.dropboxusercontent.com)|162.125.65.15|:443... connected.\n",
            "HTTP request sent, awaiting response... 200 OK\n",
            "Length: 244660478 (233M) [application/binary]\n",
            "Saving to: ‘B.zip’\n",
            "\n",
            "B.zip               100%[===================>] 233.33M  16.0MB/s    in 16s     \n",
            "\n",
            "2022-12-28 09:35:46 (14.2 MB/s) - ‘B.zip’ saved [244660478/244660478]\n",
            "\n",
            "--2022-12-28 09:35:46--  https://www.dropbox.com/s/2fc7ofarrk7iyfv/18801-26683.zip?dl=1\n",
            "Resolving www.dropbox.com (www.dropbox.com)... 162.125.65.18, 2620:100:6017:18::a27d:212\n",
            "Connecting to www.dropbox.com (www.dropbox.com)|162.125.65.18|:443... connected.\n",
            "HTTP request sent, awaiting response... 302 Found\n",
            "Location: /s/dl/2fc7ofarrk7iyfv/18801-26683.zip [following]\n",
            "--2022-12-28 09:35:47--  https://www.dropbox.com/s/dl/2fc7ofarrk7iyfv/18801-26683.zip\n",
            "Reusing existing connection to www.dropbox.com:443.\n",
            "HTTP request sent, awaiting response... 302 Found\n",
            "Location: https://uc05a6e9360f1bdab2d78bc3ba9c.dl.dropboxusercontent.com/cd/0/get/BzfmifgrW1WjWN_I0cB9bTv4bYz0c3lOXBT0c6Rgw87dTDNdovt41Mid46A7RFK9TpCbdyg27ZazCfN2C0MvOfRWgzu0sEHJ-OQ4inn_LgPaXqEYfb7gku9pkRy7xsOBkv5ZftNNrA8DnfdeK0Esv64O_a2oPNb77lKJ7JVF7WUou9Yp_MYlgGeXeip2jAK78To/file?dl=1# [following]\n",
            "--2022-12-28 09:35:48--  https://uc05a6e9360f1bdab2d78bc3ba9c.dl.dropboxusercontent.com/cd/0/get/BzfmifgrW1WjWN_I0cB9bTv4bYz0c3lOXBT0c6Rgw87dTDNdovt41Mid46A7RFK9TpCbdyg27ZazCfN2C0MvOfRWgzu0sEHJ-OQ4inn_LgPaXqEYfb7gku9pkRy7xsOBkv5ZftNNrA8DnfdeK0Esv64O_a2oPNb77lKJ7JVF7WUou9Yp_MYlgGeXeip2jAK78To/file?dl=1\n",
            "Resolving uc05a6e9360f1bdab2d78bc3ba9c.dl.dropboxusercontent.com (uc05a6e9360f1bdab2d78bc3ba9c.dl.dropboxusercontent.com)... 162.125.2.15, 2620:100:6021:15::a27d:410f\n",
            "Connecting to uc05a6e9360f1bdab2d78bc3ba9c.dl.dropboxusercontent.com (uc05a6e9360f1bdab2d78bc3ba9c.dl.dropboxusercontent.com)|162.125.2.15|:443... connected.\n",
            "HTTP request sent, awaiting response... 200 OK\n",
            "Length: 187788796 (179M) [application/binary]\n",
            "Saving to: ‘C.zip’\n",
            "\n",
            "C.zip               100%[===================>] 179.09M   118MB/s    in 1.5s    \n",
            "\n",
            "2022-12-28 09:35:50 (118 MB/s) - ‘C.zip’ saved [187788796/187788796]\n",
            "\n",
            "/content\n"
          ]
        }
      ],
      "source": [
        "! mkdir split_frame_train\n",
        "%cd split_frame_train\n",
        "! unzip -q ../drive/MyDrive/dlcv_proj/1-50.zip\n",
        "! unzip -q ../drive/MyDrive/dlcv_proj/51-100.zip\n",
        "! unzip -q ../drive/MyDrive/dlcv_proj/101-150.zip\n",
        "! unzip -q ../drive/MyDrive/dlcv_proj/151-200.zip\n",
        "! unzip -q ../drive/MyDrive/dlcv_proj/201-250.zip\n",
        "! unzip -q ../drive/MyDrive/dlcv_proj/251-300.zip\n",
        "! unzip -q ../drive/MyDrive/dlcv_proj/301-350.zip\n",
        "! unzip -q ../drive/MyDrive/dlcv_proj/351-394.zip\n",
        "%cd ../\n",
        "! unzip -q ./drive/MyDrive/dlcv_proj/split_frame_test.zip\n",
        "\n",
        "\n",
        "\n",
        "# ! mkdir split_frame_train\n",
        "# %cd split_frame_train\n",
        "# ! unzip -q ../drive/MyDrive/1-50.zip\n",
        "# ! unzip -q ../drive/MyDrive/51-100.zip\n",
        "# ! unzip -q ../drive/MyDrive/101-150.zip\n",
        "# ! unzip -q ../drive/MyDrive/151-200.zip\n",
        "# ! unzip -q ../drive/MyDrive/201-250.zip\n",
        "# ! unzip -q ../drive/MyDrive/251-300.zip\n",
        "# ! unzip -q ../drive/MyDrive/301-350.zip\n",
        "# ! unzip -q ../drive/MyDrive/351-394.zip\n",
        "# %cd ../\n",
        "# ! unzip -q ./drive/MyDrive/split_frame_test.zip\n",
        "# ! unzip -q ./drive/MyDrive/mfcc_frame.zip\n",
        "\n",
        "\n",
        "\n",
        "! mkdir mfcc\n",
        "%cd mfcc\n",
        "! wget https://www.dropbox.com/s/yg6e7vrt9xk7y8f/1-8000_mfcc.zip?dl=1 -O A.zip\n",
        "! wget https://www.dropbox.com/s/ajsgmwa3m8g03fe/8001-18800_mfcc.zip?dl=1 -O B.zip\n",
        "! wget https://www.dropbox.com/s/2fc7ofarrk7iyfv/18801-26683.zip?dl=1 -O C.zip\n",
        "! unzip -q A.zip\n",
        "! unzip -q B.zip\n",
        "! unzip -q C.zip\n",
        "%cd ../"
      ]
    },
    {
      "cell_type": "code",
      "source": [
        "# ! mkdir CKPT\n",
        "# ! python3 train.py\n",
        "! python3 train_fcn.py --type aud"
      ],
      "metadata": {
        "colab": {
          "base_uri": "https://localhost:8080/"
        },
        "id": "mTXpzeR8O13L",
        "outputId": "7acf6d25-f1aa-49f1-8a03-b6a776bd9957"
      },
      "execution_count": 3,
      "outputs": [
        {
          "output_type": "stream",
          "name": "stdout",
          "text": [
            "cuda ?  False\n",
            "device:  cpu\n",
            "train set:  0 valid set:  0 test set:  0\n",
            "Traceback (most recent call last):\n",
            "  File \"train_fcn.py\", line 272, in <module>\n",
            "    train_loader = DataLoader(train_set, batch_size=batch_size, shuffle=True)\n",
            "  File \"/usr/local/lib/python3.8/dist-packages/torch/utils/data/dataloader.py\", line 344, in __init__\n",
            "    sampler = RandomSampler(dataset, generator=generator)  # type: ignore[arg-type]\n",
            "  File \"/usr/local/lib/python3.8/dist-packages/torch/utils/data/sampler.py\", line 107, in __init__\n",
            "    raise ValueError(\"num_samples should be a positive integer \"\n",
            "ValueError: num_samples should be a positive integer value, but got num_samples=0\n"
          ]
        }
      ]
    },
    {
      "cell_type": "code",
      "source": [
        "# ! rm -r CKPT\n",
        "! mkdir CKPT"
      ],
      "metadata": {
        "id": "_zIsB8ZkmMCG"
      },
      "execution_count": null,
      "outputs": []
    },
    {
      "cell_type": "code",
      "source": [
        "! python3 train_fcn.py --type aud --mode test"
      ],
      "metadata": {
        "colab": {
          "base_uri": "https://localhost:8080/"
        },
        "id": "tTgl2BNM9NQ7",
        "outputId": "494de1e2-3f59-4c8a-ade2-6d9c23865859"
      },
      "execution_count": null,
      "outputs": [
        {
          "output_type": "stream",
          "name": "stdout",
          "text": [
            "cuda ?  False\n",
            "device:  cpu\n",
            "train set:  14872 valid set:  1653 test set:  2057\n",
            "100% 2057/2057 [00:27<00:00, 76.12it/s]\n",
            "TTM:  793\n",
            "n_TTM:  1264\n"
          ]
        }
      ]
    }
  ]
}